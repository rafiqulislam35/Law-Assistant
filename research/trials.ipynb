{
 "cells": [
  {
   "cell_type": "code",
   "execution_count": 36,
   "id": "bb6bc663",
   "metadata": {},
   "outputs": [
    {
     "name": "stdout",
     "output_type": "stream",
     "text": [
      "OK\n"
     ]
    }
   ],
   "source": [
    "print(\"OK\")"
   ]
  },
  {
   "cell_type": "code",
   "execution_count": 37,
   "id": "ee0575bc",
   "metadata": {},
   "outputs": [
    {
     "data": {
      "text/plain": [
       "'d:\\\\Generative AI\\\\Langchain-Project\\\\Law-Assistant'"
      ]
     },
     "execution_count": 37,
     "metadata": {},
     "output_type": "execute_result"
    }
   ],
   "source": [
    "%pwd"
   ]
  },
  {
   "cell_type": "code",
   "execution_count": 38,
   "id": "4a77cd2d",
   "metadata": {},
   "outputs": [],
   "source": [
    "import os\n",
    "os.chdir(\"../\")"
   ]
  },
  {
   "cell_type": "code",
   "execution_count": 39,
   "id": "9ee01a29",
   "metadata": {},
   "outputs": [
    {
     "data": {
      "text/plain": [
       "'d:\\\\Generative AI\\\\Langchain-Project'"
      ]
     },
     "execution_count": 39,
     "metadata": {},
     "output_type": "execute_result"
    }
   ],
   "source": [
    "%pwd"
   ]
  },
  {
   "cell_type": "code",
   "execution_count": 9,
   "id": "6ba448e0",
   "metadata": {},
   "outputs": [],
   "source": [
    "from langchain.document_loaders import PyPDFLoader, DirectoryLoader\n",
    "from langchain.text_splitter import RecursiveCharacterTextSplitter"
   ]
  },
  {
   "cell_type": "code",
   "execution_count": 10,
   "id": "10fbb5d0",
   "metadata": {},
   "outputs": [],
   "source": [
    "from langchain_community.document_loaders import CSVLoader, DirectoryLoader, PyPDFLoader\n",
    "from langchain.docstore.document import Document\n",
    "import os\n",
    "\n",
    "# Load all CSV files first\n",
    "def load_csv_documents(folder_path):\n",
    "    csv_docs = []\n",
    "    for file in os.listdir(folder_path):\n",
    "        if file.endswith(\".csv\"):\n",
    "            loader = CSVLoader(file_path=os.path.join(folder_path, file))\n",
    "            csv_docs.extend(loader.load())\n",
    "    return csv_docs\n",
    "\n",
    "# Load all PDFs after\n",
    "def load_pdf_documents(folder_path):\n",
    "    loader = DirectoryLoader(\n",
    "        folder_path,\n",
    "        glob=\"*.pdf\",\n",
    "        loader_cls=PyPDFLoader\n",
    "    )\n",
    "    return loader.load()\n",
    "\n",
    "# Combine all documents: CSV first, then PDFs\n",
    "def load_all_documents(folder_path):\n",
    "    csv_docs = load_csv_documents(folder_path)\n",
    "    pdf_docs = load_pdf_documents(folder_path)\n",
    "    combined = csv_docs + pdf_docs  # CSV comes first\n",
    "    print(f\"Loaded {len(csv_docs)} CSV chunks and {len(pdf_docs)} PDF chunks\")\n",
    "    return combined\n"
   ]
  },
  {
   "cell_type": "code",
   "execution_count": 11,
   "id": "1b08a021",
   "metadata": {},
   "outputs": [
    {
     "name": "stdout",
     "output_type": "stream",
     "text": [
      "Loaded 0 CSV chunks and 0 PDF chunks\n"
     ]
    }
   ],
   "source": [
    "docs = load_all_documents(\"./\")  # Root directory"
   ]
  },
  {
   "cell_type": "code",
   "execution_count": 12,
   "id": "fd5615d4",
   "metadata": {},
   "outputs": [
    {
     "name": "stdout",
     "output_type": "stream",
     "text": [
      "Loaded document count: 0\n",
      "No documents were loaded.\n"
     ]
    }
   ],
   "source": [
    "print(\"Loaded document count:\", len(docs))\n",
    "if not docs:\n",
    "    print(\"No documents were loaded.\")\n"
   ]
  },
  {
   "cell_type": "code",
   "execution_count": 40,
   "id": "f980b716",
   "metadata": {},
   "outputs": [],
   "source": [
    "from langchain_community.embeddings import HuggingFaceEmbeddings\n",
    "\n",
    "def download_hugging_face_embeddings():\n",
    "    embeddings = HuggingFaceEmbeddings(model_name='sentence-transformers/all-MiniLM-L6-v2')\n",
    "    return embeddings\n",
    "\n",
    "embedding_model = download_hugging_face_embeddings()\n"
   ]
  },
  {
   "cell_type": "code",
   "execution_count": 41,
   "id": "1a50ee2f",
   "metadata": {},
   "outputs": [
    {
     "name": "stdout",
     "output_type": "stream",
     "text": [
      "Length: 384\n"
     ]
    }
   ],
   "source": [
    "query_result = embedding_model.embed_query(\"Hello world\")\n",
    "print(\"Length:\", len(query_result))"
   ]
  },
  {
   "cell_type": "code",
   "execution_count": 15,
   "id": "9525ccac",
   "metadata": {},
   "outputs": [],
   "source": [
    "# query_result"
   ]
  },
  {
   "cell_type": "code",
   "execution_count": 16,
   "id": "b5957765",
   "metadata": {},
   "outputs": [
    {
     "data": {
      "text/plain": [
       "True"
      ]
     },
     "execution_count": 16,
     "metadata": {},
     "output_type": "execute_result"
    }
   ],
   "source": [
    "from dotenv import load_dotenv\n",
    "load_dotenv()"
   ]
  },
  {
   "cell_type": "code",
   "execution_count": 42,
   "id": "34a8258a",
   "metadata": {},
   "outputs": [],
   "source": [
    "PINECONE_API_KEY=os.environ.get('PINECONE_API_KEY')\n",
    "OPENAI_API_KEY=os.environ.get('OPENAI_API_KEY')"
   ]
  },
  {
   "cell_type": "code",
   "execution_count": 43,
   "id": "4d56e9d4",
   "metadata": {},
   "outputs": [],
   "source": [
    "from pinecone.grpc import PineconeGRPC as Pinecone\n",
    "from pinecone import ServerlessSpec\n",
    "\n",
    "# Initialize Pinecone client\n",
    "pc = Pinecone(api_key=PINECONE_API_KEY)\n",
    "\n",
    "# Set existing index name\n",
    "index_name = \"lawbot\"\n",
    "\n",
    "# No need to create it again — it already exists\n",
    "# Just connect to it when needed\n"
   ]
  },
  {
   "cell_type": "code",
   "execution_count": 44,
   "id": "1d00d831",
   "metadata": {},
   "outputs": [],
   "source": [
    "import os\n",
    "os.environ[\"PINECONE_API_KEY\"] = PINECONE_API_KEY\n",
    "os.environ[\"OPENAI_API_KEY\"] = OPENAI_API_KEY\n"
   ]
  },
  {
   "cell_type": "code",
   "execution_count": 45,
   "id": "eafce034",
   "metadata": {},
   "outputs": [],
   "source": [
    "import os\n",
    "from langchain_community.document_loaders import PyPDFLoader, CSVLoader, DirectoryLoader\n",
    "\n",
    "def load_all_documents(folder_path):\n",
    "    csv_docs = []\n",
    "    pdf_docs = []\n",
    "\n",
    "    for file in os.listdir(folder_path):\n",
    "        file_path = os.path.join(folder_path, file)\n",
    "        if file.endswith(\".csv\"):\n",
    "            loader = CSVLoader(file_path=file_path)\n",
    "            csv_docs.extend(loader.load())\n",
    "        elif file.endswith(\".pdf\"):\n",
    "            loader = PyPDFLoader(file_path)\n",
    "            pdf_docs.extend(loader.load())\n",
    "\n",
    "    print(f\"Loaded {len(csv_docs)} CSV chunks and {len(pdf_docs)} PDF chunks\")\n",
    "    return csv_docs + pdf_docs\n"
   ]
  },
  {
   "cell_type": "code",
   "execution_count": 24,
   "id": "ffd75e19",
   "metadata": {},
   "outputs": [
    {
     "name": "stdout",
     "output_type": "stream",
     "text": [
      "Loaded 77104 CSV chunks and 109 PDF chunks\n"
     ]
    }
   ],
   "source": [
    "docs = load_all_documents(\"Data/\")\n"
   ]
  },
  {
   "cell_type": "code",
   "execution_count": 25,
   "id": "4ecb72d0",
   "metadata": {},
   "outputs": [
    {
     "name": "stdout",
     "output_type": "stream",
     "text": [
      "Total final chunks: 115242\n"
     ]
    }
   ],
   "source": [
    "from langchain.text_splitter import RecursiveCharacterTextSplitter\n",
    "\n",
    "splitter = RecursiveCharacterTextSplitter(chunk_size=1000, chunk_overlap=200)\n",
    "chunks = splitter.split_documents(docs)\n",
    "\n",
    "print(f\"Total final chunks: {len(chunks)}\")\n"
   ]
  },
  {
   "cell_type": "code",
   "execution_count": 26,
   "id": "946f7328",
   "metadata": {},
   "outputs": [],
   "source": [
    "from langchain_pinecone import PineconeVectorStore\n",
    "from langchain_community.embeddings import HuggingFaceEmbeddings\n",
    "\n",
    "# Define index name and embedding model\n",
    "index_name = \"lawbot\"  # replace with your actual Pinecone index name\n",
    "embedding_model = HuggingFaceEmbeddings(model_name=\"sentence-transformers/all-MiniLM-L6-v2\")\n",
    "\n",
    "# Load the existing Pinecone index\n",
    "docsearch = PineconeVectorStore.from_existing_index(\n",
    "    index_name=index_name,\n",
    "    embedding=embedding_model\n",
    ")\n",
    "\n"
   ]
  },
  {
   "cell_type": "code",
   "execution_count": 27,
   "id": "c60113e0",
   "metadata": {},
   "outputs": [
    {
     "data": {
      "text/plain": [
       "<langchain_pinecone.vectorstores.PineconeVectorStore at 0x1cac4bea710>"
      ]
     },
     "execution_count": 27,
     "metadata": {},
     "output_type": "execute_result"
    }
   ],
   "source": [
    "docsearch"
   ]
  },
  {
   "cell_type": "code",
   "execution_count": 28,
   "id": "9e662142",
   "metadata": {},
   "outputs": [],
   "source": [
    "retriever = docsearch.as_retriever(\n",
    "    search_type=\"similarity\",\n",
    "    search_kwargs={\"k\": 3}\n",
    ")\n"
   ]
  },
  {
   "cell_type": "code",
   "execution_count": 29,
   "id": "42a96c24",
   "metadata": {},
   "outputs": [],
   "source": [
    "retrieved_docs = retriever.invoke(\"What is penal code OF OFFENCES RELATING TO THE ARMY, NAVY AND AIR FORCE?\")\n"
   ]
  },
  {
   "cell_type": "code",
   "execution_count": 30,
   "id": "3e93db7d",
   "metadata": {},
   "outputs": [
    {
     "data": {
      "text/plain": [
       "[Document(id='e28ae4f3-10db-406b-8145-cfa0eabbc7ab', metadata={'row': 417.0, 'source': 'Data/bdlaws_ds_formatted.csv'}, page_content=': 417\\nlaw_descripton: \\nlaw_pass_date: 6th October, 1860\\nlaw_subtitle: \\nlaw_title: The Penal Code, 1860\\nsection_chapter_id: 3.0\\nsection_chapter_name: OF OFFENCES RELATING TO THE ARMY, NAVY AND AIR FORCE\\nsection_chapter_no: Chapter VII\\nsection_description: 139. No person subject to the\\nsection_id: 2862\\nsection_name: Persons subject to certain acts\\nurl_id: 11\\nvol_ordinance: ACT NO. XLV OF 1860'),\n",
       " Document(id='55fb4930-85a8-4ecd-9f8c-9e6653f1b867', metadata={'row': 449.0, 'source': 'Data/bd_laws_translated_05022022.csv'}, page_content=': 449\\nUnnamed: 0: 449.0\\nUnnamed: 0.1: 449.0\\nlaw_descripton: \\nlaw_pass_date: 6th October, 1860\\nlaw_subtitle: -\\nlaw_title: The Penal Code, 1860\\nsection_chapter_id: 3.0\\nsection_chapter_name: OF OFFENCES RELATING TO THE ARMY, NAVY AND AIR FORCE\\nsection_chapter_no: Chapter VII\\nsection_description: 135. Whoever abets the desertion of any officer, soldier, sailor or airman, in the Army, Navy or Air Force of Bangladesh, shall be punished with imprisonment of either description for a term which may extend to two years, or with fine, or with both.\\nsection_id: 2857.0\\nsection_name: Abetment of desertion of soldier, sailor or airman\\nurl_id: 11.0\\nvol_ordinance: ACT NO. XLV OF 1860\\noriginal_language: en\\ntranslated_language: en'),\n",
       " Document(id='d68f1ed0-18a9-4e3a-bdb0-69429b16489d', metadata={'row': 417.0, 'source': 'Data/bd_laws_translated_05022022.csv'}, page_content=': 417\\nUnnamed: 0: 417.0\\nUnnamed: 0.1: 417.0\\nlaw_descripton: \\nlaw_pass_date: 6th October, 1860\\nlaw_subtitle: -\\nlaw_title: The Penal Code, 1860\\nsection_chapter_id: 3.0\\nsection_chapter_name: OF OFFENCES RELATING TO THE ARMY, NAVY AND AIR FORCE\\nsection_chapter_no: Chapter VII\\nsection_description: 139. No person subject to the\\nsection_id: 2862.0\\nsection_name: Persons subject to certain acts\\nurl_id: 11.0\\nvol_ordinance: ACT NO. XLV OF 1860\\noriginal_language: en\\ntranslated_language: en')]"
      ]
     },
     "execution_count": 30,
     "metadata": {},
     "output_type": "execute_result"
    }
   ],
   "source": [
    "retrieved_docs"
   ]
  },
  {
   "cell_type": "code",
   "execution_count": 31,
   "id": "0cbe2b9e",
   "metadata": {},
   "outputs": [],
   "source": [
    "from langchain_openai import OpenAI\n",
    "\n",
    "# Initialize OpenAI LLM\n",
    "llm = OpenAI(\n",
    "    temperature=0.4,        # Controls creativity (lower = more focused)\n",
    "    max_tokens=500          # Maximum number of tokens to generate\n",
    ")"
   ]
  },
  {
   "cell_type": "code",
   "execution_count": 32,
   "id": "0eecacf9",
   "metadata": {},
   "outputs": [],
   "source": [
    "from langchain.chains import create_retrieval_chain\n",
    "from langchain.chains.combine_documents import create_stuff_documents_chain\n",
    "from langchain_core.prompts import ChatPromptTemplate\n",
    "from langchain_core.runnables import Runnable\n",
    "from langchain_core.documents import Document\n",
    "\n",
    "# 1. Define system prompt\n",
    "system_prompt = (\n",
    "    \"You are an assistant for question-answering tasks. \"\n",
    "    \"Use the following pieces of retrieved context to answer \"\n",
    "    \"the question. If you don't know the answer, say that you \"\n",
    "    \"don't know. Use three sentences maximum and keep the \"\n",
    "    \"answer concise.\\n\\n\"\n",
    "    \"{context}\"\n",
    ")\n",
    "\n",
    "# 2. Create prompt template\n",
    "prompt = ChatPromptTemplate.from_messages([\n",
    "    (\"system\", system_prompt),\n",
    "    (\"human\", \"{input}\")\n",
    "])\n"
   ]
  },
  {
   "cell_type": "code",
   "execution_count": 33,
   "id": "f450fdf1",
   "metadata": {},
   "outputs": [],
   "source": [
    "# Create the question-answering chain using the prompt and LLM\n",
    "question_answer_chain = create_stuff_documents_chain(\n",
    "    llm,\n",
    "    prompt\n",
    ")\n",
    "\n",
    "# Create the RAG (Retrieval-Augmented Generation) chain using retriever\n",
    "rag_chain = create_retrieval_chain(\n",
    "    retriever,\n",
    "    question_answer_chain\n",
    ")\n"
   ]
  },
  {
   "cell_type": "code",
   "execution_count": 35,
   "id": "97a900a1",
   "metadata": {},
   "outputs": [
    {
     "name": "stdout",
     "output_type": "stream",
     "text": [
      "⚠️ OpenAI Error: Error code: 429 - {'error': {'message': 'You exceeded your current quota, please check your plan and billing details. For more information on this error, read the docs: https://platform.openai.com/docs/guides/error-codes/api-errors.', 'type': 'insufficient_quota', 'param': None, 'code': 'insufficient_quota'}}\n"
     ]
    }
   ],
   "source": [
    "try:\n",
    "    response = rag_chain.invoke({\"input\": \"What is the penal code OF OFFENCES RELATING TO THE ARMY, NAVY AND AIR FORCE?\"})\n",
    "    print(\"Answer:\", response[\"answer\"])\n",
    "except Exception as e:\n",
    "    print(\"⚠️ OpenAI Error:\", e)\n"
   ]
  },
  {
   "cell_type": "code",
   "execution_count": 59,
   "id": "b9efed58",
   "metadata": {},
   "outputs": [],
   "source": [
    "import os\n",
    "from dotenv import load_dotenv\n",
    "\n",
    "load_dotenv()  # load keys from .env\n",
    "\n",
    "PINECONE_API_KEY = os.environ.get(\"PINECONE_API_KEY\")\n",
    "OPENAI_API_KEY = os.environ.get(\"OPENAI_API_KEY\")\n"
   ]
  },
  {
   "cell_type": "code",
   "execution_count": 60,
   "id": "03ed1ab4",
   "metadata": {},
   "outputs": [],
   "source": [
    "from langchain_community.embeddings import HuggingFaceEmbeddings\n",
    "from langchain_pinecone import PineconeVectorStore\n",
    "\n",
    "# Load embedding model\n",
    "embedding_model = HuggingFaceEmbeddings(model_name=\"sentence-transformers/all-MiniLM-L6-v2\")\n",
    "\n",
    "# Define existing index name\n",
    "index_name = \"lawbot\"\n",
    "\n",
    "# Load existing index (do not create again)\n",
    "docsearch = PineconeVectorStore.from_existing_index(\n",
    "    index_name=index_name,\n",
    "    embedding=embedding_model\n",
    ")\n"
   ]
  },
  {
   "cell_type": "code",
   "execution_count": 61,
   "id": "4000314d",
   "metadata": {},
   "outputs": [],
   "source": [
    "retriever = docsearch.as_retriever(\n",
    "    search_type=\"similarity\",\n",
    "    search_kwargs={\"k\": 3}\n",
    ")\n"
   ]
  },
  {
   "cell_type": "code",
   "execution_count": 62,
   "id": "13a513e6",
   "metadata": {},
   "outputs": [],
   "source": [
    "from langchain_openai import OpenAI\n",
    "\n",
    "llm = OpenAI(\n",
    "    temperature=0.4,\n",
    "    max_tokens=500\n",
    ")\n"
   ]
  },
  {
   "cell_type": "code",
   "execution_count": 63,
   "id": "4c185688",
   "metadata": {},
   "outputs": [],
   "source": [
    "from langchain.chains import create_retrieval_chain\n",
    "from langchain.chains.combine_documents import create_stuff_documents_chain\n",
    "from langchain_core.prompts import ChatPromptTemplate\n",
    "\n",
    "# System prompt\n",
    "system_prompt = (\n",
    "    \"You are an assistant for question-answering tasks.\\n\"\n",
    "    \"Use the following pieces of retrieved context to answer the question.\\n\"\n",
    "    \"If you don't know the answer, say you don't know.\\n\"\n",
    "    \"Limit your answer to three concise sentences.\\n\\n\"\n",
    "    \"{context}\"\n",
    ")\n",
    "\n",
    "prompt = ChatPromptTemplate.from_messages([\n",
    "    (\"system\", system_prompt),\n",
    "    (\"human\", \"{input}\")\n",
    "])\n",
    "\n",
    "# Combine docs + LLM\n",
    "question_answer_chain = create_stuff_documents_chain(llm, prompt)\n",
    "\n",
    "# Final RAG chain\n",
    "rag_chain = create_retrieval_chain(retriever, question_answer_chain)\n"
   ]
  },
  {
   "cell_type": "code",
   "execution_count": 73,
   "id": "91281177",
   "metadata": {},
   "outputs": [
    {
     "name": "stdout",
     "output_type": "stream",
     "text": [
      "Answer: The Penal Code, 1860 is a legislation passed on October 6th, 1860. It appears to be a code of laws that outlines punishments for various offenses.\n"
     ]
    }
   ],
   "source": [
    "try:\n",
    "    response = rag_chain.invoke({\"input\": \"What is The Penal Code, 1860\"})\n",
    "    print(\"Answer:\", response[\"answer\"])\n",
    "except Exception as e:\n",
    "    print(\"⚠️ OpenAI Error:\", e)\n"
   ]
  },
  {
   "cell_type": "code",
   "execution_count": 66,
   "id": "8c7380d4",
   "metadata": {},
   "outputs": [],
   "source": [
    "from langchain_community.llms import Ollama\n",
    "\n",
    "llm = Ollama(model=\"llama3\")\n"
   ]
  },
  {
   "cell_type": "code",
   "execution_count": 74,
   "id": "611016ac",
   "metadata": {},
   "outputs": [
    {
     "name": "stdout",
     "output_type": "stream",
     "text": [
      "Answer: The Penal Code, 1860 is a law that was passed on October 6th, 1860. It outlines the punishments for various offenses in Chapter III, Section 2188, specifically discussing the types of punishment offenders are liable for under the code's provisions.\n"
     ]
    }
   ],
   "source": [
    "try:\n",
    "    response = rag_chain.invoke({\"input\": \"What is The Penal Code, 1860?\"})\n",
    "    print(\"Answer:\", response[\"answer\"])\n",
    "except Exception as e:\n",
    "    print(\"⚠️ OpenAI Error:\", e)\n"
   ]
  },
  {
   "cell_type": "code",
   "execution_count": 68,
   "id": "7d761e10",
   "metadata": {},
   "outputs": [],
   "source": [
    "from langchain_pinecone import PineconeVectorStore\n",
    "from langchain_community.embeddings import HuggingFaceEmbeddings\n",
    "\n",
    "index_name = \"lawbot\"\n",
    "embedding_model = HuggingFaceEmbeddings(model_name=\"sentence-transformers/all-MiniLM-L6-v2\")\n",
    "\n",
    "docsearch = PineconeVectorStore.from_existing_index(\n",
    "    index_name=index_name,\n",
    "    embedding=embedding_model\n",
    ")\n",
    "\n",
    "retriever = docsearch.as_retriever(search_type=\"similarity\", search_kwargs={\"k\": 3})\n"
   ]
  },
  {
   "cell_type": "code",
   "execution_count": 70,
   "id": "ab9d7d76",
   "metadata": {},
   "outputs": [],
   "source": [
    "from langchain_community.llms import Ollama\n",
    "\n",
    "llm = Ollama(model=\"llama3\")  # make sure llama3 is downloaded in Ollama\n"
   ]
  },
  {
   "cell_type": "code",
   "execution_count": 71,
   "id": "ab7e637f",
   "metadata": {},
   "outputs": [],
   "source": [
    "from langchain.chains import create_retrieval_chain\n",
    "from langchain.chains.combine_documents import create_stuff_documents_chain\n",
    "from langchain_core.prompts import ChatPromptTemplate\n",
    "\n",
    "# System prompt\n",
    "system_prompt = (\n",
    "    \"You are an assistant for question-answering tasks. \"\n",
    "    \"Use the following pieces of retrieved context to answer \"\n",
    "    \"the question. If you don't know the answer, say that you \"\n",
    "    \"don't know. Use three sentences maximum and keep the answer concise.\\n\\n\"\n",
    "    \"{context}\"\n",
    ")\n",
    "\n",
    "# Prompt template\n",
    "prompt = ChatPromptTemplate.from_messages([\n",
    "    (\"system\", system_prompt),\n",
    "    (\"human\", \"{input}\")\n",
    "])\n",
    "\n",
    "# Combine\n",
    "question_answer_chain = create_stuff_documents_chain(\n",
    "    llm=llm,\n",
    "    prompt=prompt\n",
    ")\n",
    "\n",
    "rag_chain = create_retrieval_chain(\n",
    "    retriever=retriever,\n",
    "    combine_docs_chain=question_answer_chain\n",
    ")\n"
   ]
  },
  {
   "cell_type": "code",
   "execution_count": 75,
   "id": "8bf43c85",
   "metadata": {},
   "outputs": [
    {
     "name": "stdout",
     "output_type": "stream",
     "text": [
      "Answer: The Societies Registration Act, 1860 is a law that governs the registration of societies in India. It was passed on May 21st, 1860, and provides for the certification of society registration by the registrar upon filing of the memorandum and rules and regulations of the society. The act aims to regulate the formation and management of societies.\n"
     ]
    }
   ],
   "source": [
    "query = \"What is The Societies Registration Act?\"\n",
    "\n",
    "try:\n",
    "    response = rag_chain.invoke({\"input\": query})\n",
    "    print(\"Answer:\", response[\"answer\"])\n",
    "except Exception as e:\n",
    "    print(\"⚠️ Error:\", e)\n"
   ]
  },
  {
   "cell_type": "code",
   "execution_count": 76,
   "id": "cc90ef26",
   "metadata": {},
   "outputs": [
    {
     "name": "stdout",
     "output_type": "stream",
     "text": [
      "Answer: I don't know. The provided context appears to be a section from an Indian penal code, but it doesn't contain information about someone doing an act under certain circumstances. It discusses acts and omissions, liability for criminal acts, and common intention.\n"
     ]
    }
   ],
   "source": [
    "query = \"Whoever does any act under such circumstances?\"\n",
    "\n",
    "try:\n",
    "    response = rag_chain.invoke({\"input\": query})\n",
    "    print(\"Answer:\", response[\"answer\"])\n",
    "except Exception as e:\n",
    "    print(\"⚠️ Error:\", e)"
   ]
  },
  {
   "cell_type": "code",
   "execution_count": 80,
   "id": "56491879",
   "metadata": {},
   "outputs": [
    {
     "name": "stdout",
     "output_type": "stream",
     "text": [
      "Answer: I found information on \"Inchoate Stamped Instruments\" in Act No. XXVI of 1881. According to the context, inchoate stamped instruments refer to instruments that are not yet completed or executed and bear a stamp.\n"
     ]
    }
   ],
   "source": [
    "query = \"Inchoate stamped instruments?\"\n",
    "\n",
    "try:\n",
    "    response = rag_chain.invoke({\"input\": query})\n",
    "    print(\"Answer:\", response[\"answer\"])\n",
    "except Exception as e:\n",
    "    print(\"⚠️ Error:\", e)"
   ]
  }
 ],
 "metadata": {
  "kernelspec": {
   "display_name": "lawbot",
   "language": "python",
   "name": "python3"
  },
  "language_info": {
   "codemirror_mode": {
    "name": "ipython",
    "version": 3
   },
   "file_extension": ".py",
   "mimetype": "text/x-python",
   "name": "python",
   "nbconvert_exporter": "python",
   "pygments_lexer": "ipython3",
   "version": "3.10.18"
  }
 },
 "nbformat": 4,
 "nbformat_minor": 5
}
